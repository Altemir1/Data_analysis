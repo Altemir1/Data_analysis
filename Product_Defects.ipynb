{
  "cells": [
    {
      "cell_type": "markdown",
      "id": "4b2cd154",
      "metadata": {
        "id": "4b2cd154"
      },
      "source": [
        "# Product Defects"
      ]
    },
    {
      "cell_type": "markdown",
      "id": "9fb46377",
      "metadata": {
        "id": "9fb46377"
      },
      "source": [
        "You are in charge of monitoring the number of products from a specific factory. You've been told that the number of defects on a given day follows the Poisson distribution with the rate parameter (lambda) equal to 7. You're new here, so you want to get a feel for what it means to follow the Poisson(7) distribution. You remember that the Poisson distribution is special because the rate parameter represents the expected value of the distribution, so in this case, the expected value of the Poisson(7) distribution is 7 defects per day.\n",
        "\n",
        "You will investigate certain attributes of the Poisson(7) distribution to get an intuition for how many defective objects you should expect to see in a given amount of time. You will also practice and apply what you know about the Poisson distribution on a practice data set that you will simulate yourself."
      ]
    },
    {
      "cell_type": "markdown",
      "id": "24b7687a",
      "metadata": {
        "id": "24b7687a"
      },
      "source": [
        "## Distribution in Theory"
      ]
    },
    {
      "cell_type": "markdown",
      "id": "6507ea83",
      "metadata": {
        "id": "6507ea83"
      },
      "source": [
        "1. Create a variable called `lam` that represents the rate parameter of our distribution."
      ]
    },
    {
      "cell_type": "code",
      "execution_count": 1,
      "id": "5004fed3",
      "metadata": {
        "id": "5004fed3"
      },
      "outputs": [],
      "source": [
        "import scipy.stats as stats\n",
        "import numpy as np\n",
        "\n",
        "## Task 1:\n",
        "lam = 7"
      ]
    },
    {
      "cell_type": "markdown",
      "id": "74c409d6",
      "metadata": {
        "id": "74c409d6"
      },
      "source": [
        "2. You know that the rate parameter of a Poisson distribution is equal to the expected value. So in our factory, the rate parameter would equal the expected number of defects on a given day. You are curious about how often we might observe the exact expected number of defects.\n",
        "\n",
        "   Calculate and print the probability of observing exactly `lam` defects on a given day."
      ]
    },
    {
      "cell_type": "code",
      "execution_count": 6,
      "id": "9460b5b8",
      "metadata": {
        "colab": {
          "base_uri": "https://localhost:8080/"
        },
        "id": "9460b5b8",
        "outputId": "16e3bbe2-9272-4d85-fc46-f5bd655b5ce1"
      },
      "outputs": [
        {
          "output_type": "stream",
          "name": "stdout",
          "text": [
            "0.07098326865041356\n"
          ]
        }
      ],
      "source": [
        "## Task 2:\n",
        "print(stats.poisson.pmf(10, lam))"
      ]
    },
    {
      "cell_type": "markdown",
      "id": "2f2e2d1f",
      "metadata": {
        "id": "2f2e2d1f"
      },
      "source": [
        "3. Our boss said that having 4 or fewer defects on a given day is an exceptionally good day. You are curious about how often that might happen.\n",
        "\n",
        "   Calculate and print the probability of having one of those days."
      ]
    },
    {
      "cell_type": "code",
      "execution_count": 7,
      "id": "f4ebb772",
      "metadata": {
        "colab": {
          "base_uri": "https://localhost:8080/"
        },
        "id": "f4ebb772",
        "outputId": "61ac6f0f-1494-4c1c-a75f-2d29bedce1c6"
      },
      "outputs": [
        {
          "output_type": "stream",
          "name": "stdout",
          "text": [
            "0.17299160788207146\n"
          ]
        }
      ],
      "source": [
        "## Task 3:\n",
        "print(stats.poisson.cdf(4, lam))"
      ]
    },
    {
      "cell_type": "markdown",
      "id": "53d28c8f",
      "metadata": {
        "id": "53d28c8f"
      },
      "source": [
        "4. On the other hand, our boss said that having more than 9 defects on a given day is considered a bad day.\n",
        "\n",
        "   Calculate and print the probability of having one of these bad days."
      ]
    },
    {
      "cell_type": "code",
      "execution_count": 8,
      "id": "a2e52583",
      "metadata": {
        "colab": {
          "base_uri": "https://localhost:8080/"
        },
        "id": "a2e52583",
        "outputId": "9bf5b52c-cc05-40ae-8f7d-3e76bdd3d667"
      },
      "outputs": [
        {
          "output_type": "stream",
          "name": "stdout",
          "text": [
            "0.16950406276132668\n"
          ]
        }
      ],
      "source": [
        "## Task 4:\n",
        "print(1 - stats.poisson.cdf(9,lam))"
      ]
    },
    {
      "cell_type": "markdown",
      "id": "51b70b96",
      "metadata": {
        "id": "51b70b96"
      },
      "source": [
        "## Distribution in Practice"
      ]
    },
    {
      "cell_type": "markdown",
      "id": "64c0a33e",
      "metadata": {
        "id": "64c0a33e"
      },
      "source": [
        "5. You've familiarized yourself a little bit about how the Poisson distribution works in theory by calculating different probabilities. But let's look at what this might look like in practice.\n",
        "\n",
        "   Create a variable called `year_defects` that has 365 random values from the Poisson distribution."
      ]
    },
    {
      "cell_type": "code",
      "execution_count": 9,
      "id": "ca2113e6",
      "metadata": {
        "id": "ca2113e6"
      },
      "outputs": [],
      "source": [
        "## Task 5:\n",
        "year_defects = stats.poisson.rvs(lam, size=365)\n"
      ]
    },
    {
      "cell_type": "markdown",
      "id": "d7f3dce8",
      "metadata": {
        "id": "d7f3dce8"
      },
      "source": [
        "6. Let's take a look at our new dataset. Print the first 20 values in this dataset."
      ]
    },
    {
      "cell_type": "code",
      "execution_count": 11,
      "id": "b1d5f0c1",
      "metadata": {
        "colab": {
          "base_uri": "https://localhost:8080/"
        },
        "id": "b1d5f0c1",
        "outputId": "0e1b60e9-b029-4088-ba47-9a40e88b7c4c"
      },
      "outputs": [
        {
          "output_type": "stream",
          "name": "stdout",
          "text": [
            "[ 3  6 10 10 10 11  7  9  6 14  6 12 11  5  3  7 13  6  6  6]\n"
          ]
        }
      ],
      "source": [
        "## Task 6:\n",
        "print(year_defects[0:20])"
      ]
    },
    {
      "cell_type": "markdown",
      "id": "eedc358b",
      "metadata": {
        "id": "eedc358b"
      },
      "source": [
        "7. If we expect 7 defects on a given day, what is the total number of defects we would expect over 365 days?\n",
        "\n",
        "   Calculate and print this value to the output terminal."
      ]
    },
    {
      "cell_type": "code",
      "execution_count": 14,
      "id": "75d2f0e0",
      "metadata": {
        "colab": {
          "base_uri": "https://localhost:8080/"
        },
        "id": "75d2f0e0",
        "outputId": "a1eb004f-5e02-470a-8375-1ecdd09ad3a6"
      },
      "outputs": [
        {
          "output_type": "stream",
          "name": "stdout",
          "text": [
            "2555\n"
          ]
        }
      ],
      "source": [
        "## Task 7:\n",
        "print(365 * 7)"
      ]
    },
    {
      "cell_type": "markdown",
      "id": "ad96cdf6",
      "metadata": {
        "id": "ad96cdf6"
      },
      "source": [
        "8. Calculate and print the total sum of the dataset `year_defects`. How does this compare to the total number of defects we expected over 365 days?"
      ]
    },
    {
      "cell_type": "code",
      "execution_count": 15,
      "id": "da304786",
      "metadata": {
        "colab": {
          "base_uri": "https://localhost:8080/"
        },
        "id": "da304786",
        "outputId": "a307e4e9-07a3-4256-e043-501242bc51b2"
      },
      "outputs": [
        {
          "output_type": "stream",
          "name": "stdout",
          "text": [
            "2531\n"
          ]
        }
      ],
      "source": [
        "## Task 8:\n",
        "print(sum(year_defects))"
      ]
    },
    {
      "cell_type": "markdown",
      "id": "aefa9e09",
      "metadata": {
        "id": "aefa9e09"
      },
      "source": [
        "9. Calculate and print the average number of defects per day from our simulated dataset.\n",
        "\n",
        "   How does this compare to the expected average number of defects each day that we know from the given rate parameter of the Poisson distribution?"
      ]
    },
    {
      "cell_type": "code",
      "execution_count": 16,
      "id": "febc26d4",
      "metadata": {
        "colab": {
          "base_uri": "https://localhost:8080/"
        },
        "id": "febc26d4",
        "outputId": "e553a0ba-0aaa-48c7-a380-6f4fb0d20b3b"
      },
      "outputs": [
        {
          "output_type": "stream",
          "name": "stdout",
          "text": [
            "6.934246575342466\n"
          ]
        }
      ],
      "source": [
        "## Task 9:\n",
        "print(year_defects.mean())"
      ]
    },
    {
      "cell_type": "markdown",
      "id": "31308a48",
      "metadata": {
        "id": "31308a48"
      },
      "source": [
        "10. You're worried about what the highest amount of defects in a single day might be because that would be a hectic day.\n",
        "\n",
        "    Print the maximum value of `year_defects`."
      ]
    },
    {
      "cell_type": "code",
      "execution_count": 17,
      "id": "18feb435",
      "metadata": {
        "colab": {
          "base_uri": "https://localhost:8080/"
        },
        "id": "18feb435",
        "outputId": "96020de7-a7b8-4112-a122-d435ca00c753"
      },
      "outputs": [
        {
          "output_type": "stream",
          "name": "stdout",
          "text": [
            "15\n"
          ]
        }
      ],
      "source": [
        "## Task 10:\n",
        "print(max(year_defects))"
      ]
    },
    {
      "cell_type": "markdown",
      "id": "64b6a84a",
      "metadata": {
        "id": "64b6a84a"
      },
      "source": [
        "11. Wow, it would probably be super busy if there were that many defects on a single day. Hopefully, it is a rare event!\n",
        "\n",
        "    Calculate and print the probability of observing that maximum value or more from the Poisson(7) distribution."
      ]
    },
    {
      "cell_type": "code",
      "execution_count": 18,
      "id": "a63b1329",
      "metadata": {
        "colab": {
          "base_uri": "https://localhost:8080/"
        },
        "id": "a63b1329",
        "outputId": "2fdcd284-3b61-475d-fbbf-dbfe16e48dda"
      },
      "outputs": [
        {
          "output_type": "stream",
          "name": "stdout",
          "text": [
            "0.003310622145097962\n"
          ]
        }
      ],
      "source": [
        "## Task 11:\n",
        "print(stats.poisson.pmf(15 ,7))"
      ]
    },
    {
      "cell_type": "markdown",
      "id": "b45f0bab",
      "metadata": {
        "id": "b45f0bab"
      },
      "source": [
        "## Extra"
      ]
    },
    {
      "cell_type": "markdown",
      "id": "5060f0ec",
      "metadata": {
        "id": "5060f0ec"
      },
      "source": [
        "12. Congratulations! At this point, you have now explored the Poisson distribution and even worked with some simulated data. We have a couple of extra tasks if you would like an extra challenge. Feel free to try them out or move onto the next topic!\n",
        "\n",
        "    Let's say we want to know how many defects in a given day would put us in the 90th percentile of the Poisson(7) distribution. One way we could calculate this is by using the following method:\n",
        "    \n",
        "    ```py\n",
        "    stats.poisson.ppf(percentile, lambda)\n",
        "    ```\n",
        "    \n",
        "    `percentile` is equal to the desired percentile (a decimal between 0 and 1), and `lambda` is the lambda parameter of the Poisson distribution. This function is essentially the inverse of the CDF.\n",
        "    \n",
        "    Use this method to calculate and print the number of defects that would put us in the 90th percentile for a given day. In other words, on 90% of days, we will observe fewer defects than this number."
      ]
    },
    {
      "cell_type": "code",
      "execution_count": 21,
      "id": "e6156c3e",
      "metadata": {
        "colab": {
          "base_uri": "https://localhost:8080/"
        },
        "id": "e6156c3e",
        "outputId": "bdcfc7e2-45fb-46e1-839c-22ef079a3d2d"
      },
      "outputs": [
        {
          "output_type": "stream",
          "name": "stdout",
          "text": [
            "10.0\n"
          ]
        }
      ],
      "source": [
        "## Task 12:\n",
        "print(stats.poisson.ppf(0.9, 7))"
      ]
    },
    {
      "cell_type": "markdown",
      "id": "0d86d9d0",
      "metadata": {
        "id": "0d86d9d0"
      },
      "source": [
        "13. Now let's see what proportion of our simulated dataset `year_defects` is greater than or equal to the number we calculated in the previous step.\n",
        "\n",
        "    By definition of a percentile, we would expect 1 - .90, or about 10% of days to be in this range.\n",
        "    \n",
        "    To calculate this:\n",
        "    \n",
        "     1) Count the number of values in the dataset that are greater than or equal to the 90th percentile value.\n",
        "     \n",
        "     2) Divide this number by the length of the dataset."
      ]
    },
    {
      "cell_type": "code",
      "execution_count": 26,
      "id": "c80c6e6a",
      "metadata": {
        "colab": {
          "base_uri": "https://localhost:8080/"
        },
        "id": "c80c6e6a",
        "outputId": "582f767c-414f-4e23-b81c-d3f06ee7bb3f"
      },
      "outputs": [
        {
          "output_type": "stream",
          "name": "stdout",
          "text": [
            "0.11506849315068493\n"
          ]
        }
      ],
      "source": [
        "## Task 13:\n",
        "print(sum(year_defects > stats.poisson.ppf(0.9,lam))/len(year_defects))\n",
        "\n"
      ]
    },
    {
      "cell_type": "code",
      "execution_count": null,
      "id": "9961924d",
      "metadata": {
        "id": "9961924d"
      },
      "outputs": [],
      "source": []
    }
  ],
  "metadata": {
    "kernelspec": {
      "display_name": "Python 3 (ipykernel)",
      "language": "python",
      "name": "python3"
    },
    "language_info": {
      "codemirror_mode": {
        "name": "ipython",
        "version": 3
      },
      "file_extension": ".py",
      "mimetype": "text/x-python",
      "name": "python",
      "nbconvert_exporter": "python",
      "pygments_lexer": "ipython3",
      "version": "3.7.11"
    },
    "colab": {
      "provenance": []
    }
  },
  "nbformat": 4,
  "nbformat_minor": 5
}
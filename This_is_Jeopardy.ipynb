{
  "cells": [
    {
      "cell_type": "markdown",
      "metadata": {
        "id": "vf6p1T5-dn-w"
      },
      "source": [
        "# This is Jeopardy!"
      ]
    },
    {
      "cell_type": "markdown",
      "metadata": {
        "id": "JpadAowbdn-z"
      },
      "source": [
        "#### Overview"
      ]
    },
    {
      "cell_type": "markdown",
      "metadata": {
        "id": "lFQCWUUxdn-0"
      },
      "source": [
        "This project is slightly different than others you have encountered thus far. Instead of a step-by-step tutorial, this project contains a series of open-ended requirements which describe the project you'll be building. There are many possible ways to correctly fulfill all of these requirements, and you should expect to use the internet, Codecademy, and/or other resources when you encounter a problem that you cannot easily solve."
      ]
    },
    {
      "cell_type": "markdown",
      "metadata": {
        "id": "tykDKFV6dn-0"
      },
      "source": [
        "#### Project Goals"
      ]
    },
    {
      "cell_type": "markdown",
      "metadata": {
        "id": "BlGeP5n9dn-0"
      },
      "source": [
        "You will work to write several functions that investigate a dataset of _Jeopardy!_ questions and answers. Filter the dataset for topics that you're interested in, compute the average difficulty of those questions, and train to become the next Jeopardy champion!"
      ]
    },
    {
      "cell_type": "markdown",
      "metadata": {
        "id": "De5PCOmZdn-1"
      },
      "source": [
        "## Prerequisites"
      ]
    },
    {
      "cell_type": "markdown",
      "metadata": {
        "id": "yNOHZHzldn-1"
      },
      "source": [
        "In order to complete this project, you should have completed the Pandas lessons in the <a href=\"https://www.codecademy.com/learn/paths/analyze-data-with-python\">Analyze Data with Python Skill Path</a>. You can also find those lessons in the <a href=\"https://www.codecademy.com/learn/data-processing-pandas\">Data Analysis with Pandas course</a> or the <a href=\"https://www.codecademy.com/learn/paths/data-science/\">Data Scientist Career Path</a>.\n",
        "\n",
        "Finally, the <a href=\"https://www.codecademy.com/learn/practical-data-cleaning\">Practical Data Cleaning</a> course may also be helpful."
      ]
    },
    {
      "cell_type": "markdown",
      "metadata": {
        "id": "FNp05lYXdn-1"
      },
      "source": [
        "## Project Requirements"
      ]
    },
    {
      "cell_type": "markdown",
      "metadata": {
        "id": "2xu62jF7dn-1"
      },
      "source": [
        "1. We've provided a csv file containing data about the game show _Jeopardy!_ in a file named `jeopardy.csv`. Load the data into a DataFrame and investigate its contents. Try to print out specific columns.\n",
        "\n",
        "   Note that in order to make this project as \"real-world\" as possible, we haven't modified the data at all - we're giving it to you exactly how we found it. As a result, this data isn't as \"clean\" as the datasets you normally find on Codecademy. More specifically, there's something odd about the column names. After you figure out the problem with the column names, you may want to rename them to make your life easier for the rest of the project.\n",
        "   \n",
        "   In order to display the full contents of a column, we've added this line of code for you:\n",
        "   \n",
        "   ```py\n",
        "   pd.set_option('display.max_colwidth', None)\n",
        "   ```"
      ]
    },
    {
      "cell_type": "code",
      "execution_count": 1,
      "metadata": {
        "id": "Uqb53-l6dn-2"
      },
      "outputs": [],
      "source": [
        "import pandas as pd\n",
        "pd.set_option('display.max_colwidth', None)"
      ]
    },
    {
      "cell_type": "markdown",
      "metadata": {
        "id": "nWzBgB-xdn-3"
      },
      "source": [
        "2. Write a function that filters the dataset for questions that contains all of the words in a list of words. For example, when the list `[\"King\", \"England\"]` was passed to our function, the function returned a DataFrame of 49 rows. Every row had the strings `\"King\"` and `\"England\"` somewhere in its `\" Question\"`.\n",
        "\n",
        "   Test your function by printing out the column containing the question of each row of the dataset."
      ]
    },
    {
      "cell_type": "code",
      "execution_count": 86,
      "metadata": {
        "colab": {
          "base_uri": "https://localhost:8080/"
        },
        "id": "dOoO5iVadn-3",
        "outputId": "402ce874-9506-4d49-ca6b-11da42c22b87"
      },
      "outputs": [
        {
          "output_type": "execute_result",
          "data": {
            "text/plain": [
              "(49, 7)"
            ]
          },
          "metadata": {},
          "execution_count": 86
        }
      ],
      "source": [
        "df = pd.read_csv(\"jeopardy.csv\")\n",
        "list_ = [\"King\", \"England\"]\n",
        "mask = df[' Question'].apply(lambda x: all(word in x for word in list_))\n",
        "filtered_df = df[mask]\n",
        "\n",
        "filtered_df.shape\n"
      ]
    },
    {
      "cell_type": "markdown",
      "metadata": {
        "id": "du1LPnnXdn-3"
      },
      "source": [
        "3. Test your original function with a few different sets of words to try to find some ways your function breaks. Edit your function so it is more robust.\n",
        "\n",
        "   For example, think about capitalization. We probably want to find questions that contain the word `\"King\"` or `\"king\"`.\n",
        "   \n",
        "   You may also want to check to make sure you don't find rows that contain substrings of your given words. For example, our function found a question that didn't contain the word `\"king\"`, however it did contain the word `\"viking\"` &mdash; it found the `\"king\"` inside `\"viking\"`. Note that this also comes with some drawbacks &mdash; you would no longer find questions that contained words like `\"England's\"`."
      ]
    },
    {
      "cell_type": "code",
      "execution_count": 46,
      "metadata": {
        "id": "7oWyUTjadn-3"
      },
      "outputs": [],
      "source": [
        "\n",
        "\n",
        "check_word = lambda x: all(word.lower() in x.lower()  for word in list_)\n",
        "\n",
        "mask = df[\" Question\"].apply(check_word)\n",
        "\n",
        "filtered_df = df[mask]\n"
      ]
    },
    {
      "cell_type": "code",
      "source": [
        "filtered_df"
      ],
      "metadata": {
        "colab": {
          "base_uri": "https://localhost:8080/",
          "height": 615
        },
        "id": "JAjXdLjBmgbT",
        "outputId": "8dfa4dce-9b18-4b35-a4b4-6476668779a2"
      },
      "execution_count": 47,
      "outputs": [
        {
          "output_type": "execute_result",
          "data": {
            "text/plain": [
              "        Show Number    Air Date             Round               Category  \\\n",
              "4953           3003  1997-09-24  Double Jeopardy!           \"PH\"UN WORDS   \n",
              "6337           3517  1999-12-14  Double Jeopardy!                    Y1K   \n",
              "9191           3907  2001-09-04  Double Jeopardy!         WON THE BATTLE   \n",
              "11710          2903  1997-03-26  Double Jeopardy!       BRITISH MONARCHS   \n",
              "13454          4726  2005-03-07         Jeopardy!  A NUMBER FROM 1 TO 10   \n",
              "...             ...         ...               ...                    ...   \n",
              "208295         4621  2004-10-11         Jeopardy!            THE VIKINGS   \n",
              "208742         4863  2005-11-02  Double Jeopardy!         BEFORE & AFTER   \n",
              "213870         5856  2010-02-15  Double Jeopardy!                 URANUS   \n",
              "216021         1881  1992-11-09  Double Jeopardy!         HISTORIC NAMES   \n",
              "216789         5070  2006-09-29  Double Jeopardy!        ANCIENT HISTORY   \n",
              "\n",
              "         Value  \\\n",
              "4953      $200   \n",
              "6337      $800   \n",
              "9191      $800   \n",
              "11710     $600   \n",
              "13454    $1000   \n",
              "...        ...   \n",
              "208295    $600   \n",
              "208742  $3,000   \n",
              "213870   $1600   \n",
              "216021   $1000   \n",
              "216789   $1200   \n",
              "\n",
              "                                                                                                      Question  \\\n",
              "4953                  Both England's King George V & FDR put their stamp of approval on this \"King of Hobbies\"   \n",
              "6337    In retaliation for Viking raids, this \"Unready\" king of England attacks Norse areas of the Isle of Man   \n",
              "9191                  This king of England beat the odds to trounce the French in the 1415 Battle of Agincourt   \n",
              "11710             This Scotsman, the first Stuart king of England, was called \"The Wisest Fool in Christendom\"   \n",
              "13454                                     It's the number that followed the last king of England named William   \n",
              "...                                                                                                        ...   \n",
              "208295      In 1066 this great-great grandson of Rollo made what some call the last Viking invasion of England   \n",
              "208742                    Dutch-born king who ruled England jointly with Mary II & is a tasty New Zealand fish   \n",
              "213870              In 1781 William Herschel discovered Uranus & initially named it after this king of England   \n",
              "216021        His nickname was \"Bertie\", but he used this name & number when he became king of England in 1901   \n",
              "216789      This kingdom of England grew from 2 settlements, one founded around 495 by Cerdic & his son Cynric   \n",
              "\n",
              "                              Answer  \n",
              "4953    Philately (stamp collecting)  \n",
              "6337                        Ethelred  \n",
              "9191                         Henry V  \n",
              "11710                        James I  \n",
              "13454                              4  \n",
              "...                              ...  \n",
              "208295         William the Conqueror  \n",
              "208742      William of Orange roughy  \n",
              "213870                    George III  \n",
              "216021                    Edward VII  \n",
              "216789                        Wessex  \n",
              "\n",
              "[152 rows x 7 columns]"
            ],
            "text/html": [
              "\n",
              "  <div id=\"df-712e9626-5ee4-4d2a-b461-13572a930b83\" class=\"colab-df-container\">\n",
              "    <div>\n",
              "<style scoped>\n",
              "    .dataframe tbody tr th:only-of-type {\n",
              "        vertical-align: middle;\n",
              "    }\n",
              "\n",
              "    .dataframe tbody tr th {\n",
              "        vertical-align: top;\n",
              "    }\n",
              "\n",
              "    .dataframe thead th {\n",
              "        text-align: right;\n",
              "    }\n",
              "</style>\n",
              "<table border=\"1\" class=\"dataframe\">\n",
              "  <thead>\n",
              "    <tr style=\"text-align: right;\">\n",
              "      <th></th>\n",
              "      <th>Show Number</th>\n",
              "      <th>Air Date</th>\n",
              "      <th>Round</th>\n",
              "      <th>Category</th>\n",
              "      <th>Value</th>\n",
              "      <th>Question</th>\n",
              "      <th>Answer</th>\n",
              "    </tr>\n",
              "  </thead>\n",
              "  <tbody>\n",
              "    <tr>\n",
              "      <th>4953</th>\n",
              "      <td>3003</td>\n",
              "      <td>1997-09-24</td>\n",
              "      <td>Double Jeopardy!</td>\n",
              "      <td>\"PH\"UN WORDS</td>\n",
              "      <td>$200</td>\n",
              "      <td>Both England's King George V &amp; FDR put their stamp of approval on this \"King of Hobbies\"</td>\n",
              "      <td>Philately (stamp collecting)</td>\n",
              "    </tr>\n",
              "    <tr>\n",
              "      <th>6337</th>\n",
              "      <td>3517</td>\n",
              "      <td>1999-12-14</td>\n",
              "      <td>Double Jeopardy!</td>\n",
              "      <td>Y1K</td>\n",
              "      <td>$800</td>\n",
              "      <td>In retaliation for Viking raids, this \"Unready\" king of England attacks Norse areas of the Isle of Man</td>\n",
              "      <td>Ethelred</td>\n",
              "    </tr>\n",
              "    <tr>\n",
              "      <th>9191</th>\n",
              "      <td>3907</td>\n",
              "      <td>2001-09-04</td>\n",
              "      <td>Double Jeopardy!</td>\n",
              "      <td>WON THE BATTLE</td>\n",
              "      <td>$800</td>\n",
              "      <td>This king of England beat the odds to trounce the French in the 1415 Battle of Agincourt</td>\n",
              "      <td>Henry V</td>\n",
              "    </tr>\n",
              "    <tr>\n",
              "      <th>11710</th>\n",
              "      <td>2903</td>\n",
              "      <td>1997-03-26</td>\n",
              "      <td>Double Jeopardy!</td>\n",
              "      <td>BRITISH MONARCHS</td>\n",
              "      <td>$600</td>\n",
              "      <td>This Scotsman, the first Stuart king of England, was called \"The Wisest Fool in Christendom\"</td>\n",
              "      <td>James I</td>\n",
              "    </tr>\n",
              "    <tr>\n",
              "      <th>13454</th>\n",
              "      <td>4726</td>\n",
              "      <td>2005-03-07</td>\n",
              "      <td>Jeopardy!</td>\n",
              "      <td>A NUMBER FROM 1 TO 10</td>\n",
              "      <td>$1000</td>\n",
              "      <td>It's the number that followed the last king of England named William</td>\n",
              "      <td>4</td>\n",
              "    </tr>\n",
              "    <tr>\n",
              "      <th>...</th>\n",
              "      <td>...</td>\n",
              "      <td>...</td>\n",
              "      <td>...</td>\n",
              "      <td>...</td>\n",
              "      <td>...</td>\n",
              "      <td>...</td>\n",
              "      <td>...</td>\n",
              "    </tr>\n",
              "    <tr>\n",
              "      <th>208295</th>\n",
              "      <td>4621</td>\n",
              "      <td>2004-10-11</td>\n",
              "      <td>Jeopardy!</td>\n",
              "      <td>THE VIKINGS</td>\n",
              "      <td>$600</td>\n",
              "      <td>In 1066 this great-great grandson of Rollo made what some call the last Viking invasion of England</td>\n",
              "      <td>William the Conqueror</td>\n",
              "    </tr>\n",
              "    <tr>\n",
              "      <th>208742</th>\n",
              "      <td>4863</td>\n",
              "      <td>2005-11-02</td>\n",
              "      <td>Double Jeopardy!</td>\n",
              "      <td>BEFORE &amp; AFTER</td>\n",
              "      <td>$3,000</td>\n",
              "      <td>Dutch-born king who ruled England jointly with Mary II &amp; is a tasty New Zealand fish</td>\n",
              "      <td>William of Orange roughy</td>\n",
              "    </tr>\n",
              "    <tr>\n",
              "      <th>213870</th>\n",
              "      <td>5856</td>\n",
              "      <td>2010-02-15</td>\n",
              "      <td>Double Jeopardy!</td>\n",
              "      <td>URANUS</td>\n",
              "      <td>$1600</td>\n",
              "      <td>In 1781 William Herschel discovered Uranus &amp; initially named it after this king of England</td>\n",
              "      <td>George III</td>\n",
              "    </tr>\n",
              "    <tr>\n",
              "      <th>216021</th>\n",
              "      <td>1881</td>\n",
              "      <td>1992-11-09</td>\n",
              "      <td>Double Jeopardy!</td>\n",
              "      <td>HISTORIC NAMES</td>\n",
              "      <td>$1000</td>\n",
              "      <td>His nickname was \"Bertie\", but he used this name &amp; number when he became king of England in 1901</td>\n",
              "      <td>Edward VII</td>\n",
              "    </tr>\n",
              "    <tr>\n",
              "      <th>216789</th>\n",
              "      <td>5070</td>\n",
              "      <td>2006-09-29</td>\n",
              "      <td>Double Jeopardy!</td>\n",
              "      <td>ANCIENT HISTORY</td>\n",
              "      <td>$1200</td>\n",
              "      <td>This kingdom of England grew from 2 settlements, one founded around 495 by Cerdic &amp; his son Cynric</td>\n",
              "      <td>Wessex</td>\n",
              "    </tr>\n",
              "  </tbody>\n",
              "</table>\n",
              "<p>152 rows × 7 columns</p>\n",
              "</div>\n",
              "    <div class=\"colab-df-buttons\">\n",
              "\n",
              "  <div class=\"colab-df-container\">\n",
              "    <button class=\"colab-df-convert\" onclick=\"convertToInteractive('df-712e9626-5ee4-4d2a-b461-13572a930b83')\"\n",
              "            title=\"Convert this dataframe to an interactive table.\"\n",
              "            style=\"display:none;\">\n",
              "\n",
              "  <svg xmlns=\"http://www.w3.org/2000/svg\" height=\"24px\" viewBox=\"0 -960 960 960\">\n",
              "    <path d=\"M120-120v-720h720v720H120Zm60-500h600v-160H180v160Zm220 220h160v-160H400v160Zm0 220h160v-160H400v160ZM180-400h160v-160H180v160Zm440 0h160v-160H620v160ZM180-180h160v-160H180v160Zm440 0h160v-160H620v160Z\"/>\n",
              "  </svg>\n",
              "    </button>\n",
              "\n",
              "  <style>\n",
              "    .colab-df-container {\n",
              "      display:flex;\n",
              "      gap: 12px;\n",
              "    }\n",
              "\n",
              "    .colab-df-convert {\n",
              "      background-color: #E8F0FE;\n",
              "      border: none;\n",
              "      border-radius: 50%;\n",
              "      cursor: pointer;\n",
              "      display: none;\n",
              "      fill: #1967D2;\n",
              "      height: 32px;\n",
              "      padding: 0 0 0 0;\n",
              "      width: 32px;\n",
              "    }\n",
              "\n",
              "    .colab-df-convert:hover {\n",
              "      background-color: #E2EBFA;\n",
              "      box-shadow: 0px 1px 2px rgba(60, 64, 67, 0.3), 0px 1px 3px 1px rgba(60, 64, 67, 0.15);\n",
              "      fill: #174EA6;\n",
              "    }\n",
              "\n",
              "    .colab-df-buttons div {\n",
              "      margin-bottom: 4px;\n",
              "    }\n",
              "\n",
              "    [theme=dark] .colab-df-convert {\n",
              "      background-color: #3B4455;\n",
              "      fill: #D2E3FC;\n",
              "    }\n",
              "\n",
              "    [theme=dark] .colab-df-convert:hover {\n",
              "      background-color: #434B5C;\n",
              "      box-shadow: 0px 1px 3px 1px rgba(0, 0, 0, 0.15);\n",
              "      filter: drop-shadow(0px 1px 2px rgba(0, 0, 0, 0.3));\n",
              "      fill: #FFFFFF;\n",
              "    }\n",
              "  </style>\n",
              "\n",
              "    <script>\n",
              "      const buttonEl =\n",
              "        document.querySelector('#df-712e9626-5ee4-4d2a-b461-13572a930b83 button.colab-df-convert');\n",
              "      buttonEl.style.display =\n",
              "        google.colab.kernel.accessAllowed ? 'block' : 'none';\n",
              "\n",
              "      async function convertToInteractive(key) {\n",
              "        const element = document.querySelector('#df-712e9626-5ee4-4d2a-b461-13572a930b83');\n",
              "        const dataTable =\n",
              "          await google.colab.kernel.invokeFunction('convertToInteractive',\n",
              "                                                    [key], {});\n",
              "        if (!dataTable) return;\n",
              "\n",
              "        const docLinkHtml = 'Like what you see? Visit the ' +\n",
              "          '<a target=\"_blank\" href=https://colab.research.google.com/notebooks/data_table.ipynb>data table notebook</a>'\n",
              "          + ' to learn more about interactive tables.';\n",
              "        element.innerHTML = '';\n",
              "        dataTable['output_type'] = 'display_data';\n",
              "        await google.colab.output.renderOutput(dataTable, element);\n",
              "        const docLink = document.createElement('div');\n",
              "        docLink.innerHTML = docLinkHtml;\n",
              "        element.appendChild(docLink);\n",
              "      }\n",
              "    </script>\n",
              "  </div>\n",
              "\n",
              "\n",
              "<div id=\"df-1946519d-89cc-495b-aff8-32b49bdfde5b\">\n",
              "  <button class=\"colab-df-quickchart\" onclick=\"quickchart('df-1946519d-89cc-495b-aff8-32b49bdfde5b')\"\n",
              "            title=\"Suggest charts\"\n",
              "            style=\"display:none;\">\n",
              "\n",
              "<svg xmlns=\"http://www.w3.org/2000/svg\" height=\"24px\"viewBox=\"0 0 24 24\"\n",
              "     width=\"24px\">\n",
              "    <g>\n",
              "        <path d=\"M19 3H5c-1.1 0-2 .9-2 2v14c0 1.1.9 2 2 2h14c1.1 0 2-.9 2-2V5c0-1.1-.9-2-2-2zM9 17H7v-7h2v7zm4 0h-2V7h2v10zm4 0h-2v-4h2v4z\"/>\n",
              "    </g>\n",
              "</svg>\n",
              "  </button>\n",
              "\n",
              "<style>\n",
              "  .colab-df-quickchart {\n",
              "      --bg-color: #E8F0FE;\n",
              "      --fill-color: #1967D2;\n",
              "      --hover-bg-color: #E2EBFA;\n",
              "      --hover-fill-color: #174EA6;\n",
              "      --disabled-fill-color: #AAA;\n",
              "      --disabled-bg-color: #DDD;\n",
              "  }\n",
              "\n",
              "  [theme=dark] .colab-df-quickchart {\n",
              "      --bg-color: #3B4455;\n",
              "      --fill-color: #D2E3FC;\n",
              "      --hover-bg-color: #434B5C;\n",
              "      --hover-fill-color: #FFFFFF;\n",
              "      --disabled-bg-color: #3B4455;\n",
              "      --disabled-fill-color: #666;\n",
              "  }\n",
              "\n",
              "  .colab-df-quickchart {\n",
              "    background-color: var(--bg-color);\n",
              "    border: none;\n",
              "    border-radius: 50%;\n",
              "    cursor: pointer;\n",
              "    display: none;\n",
              "    fill: var(--fill-color);\n",
              "    height: 32px;\n",
              "    padding: 0;\n",
              "    width: 32px;\n",
              "  }\n",
              "\n",
              "  .colab-df-quickchart:hover {\n",
              "    background-color: var(--hover-bg-color);\n",
              "    box-shadow: 0 1px 2px rgba(60, 64, 67, 0.3), 0 1px 3px 1px rgba(60, 64, 67, 0.15);\n",
              "    fill: var(--button-hover-fill-color);\n",
              "  }\n",
              "\n",
              "  .colab-df-quickchart-complete:disabled,\n",
              "  .colab-df-quickchart-complete:disabled:hover {\n",
              "    background-color: var(--disabled-bg-color);\n",
              "    fill: var(--disabled-fill-color);\n",
              "    box-shadow: none;\n",
              "  }\n",
              "\n",
              "  .colab-df-spinner {\n",
              "    border: 2px solid var(--fill-color);\n",
              "    border-color: transparent;\n",
              "    border-bottom-color: var(--fill-color);\n",
              "    animation:\n",
              "      spin 1s steps(1) infinite;\n",
              "  }\n",
              "\n",
              "  @keyframes spin {\n",
              "    0% {\n",
              "      border-color: transparent;\n",
              "      border-bottom-color: var(--fill-color);\n",
              "      border-left-color: var(--fill-color);\n",
              "    }\n",
              "    20% {\n",
              "      border-color: transparent;\n",
              "      border-left-color: var(--fill-color);\n",
              "      border-top-color: var(--fill-color);\n",
              "    }\n",
              "    30% {\n",
              "      border-color: transparent;\n",
              "      border-left-color: var(--fill-color);\n",
              "      border-top-color: var(--fill-color);\n",
              "      border-right-color: var(--fill-color);\n",
              "    }\n",
              "    40% {\n",
              "      border-color: transparent;\n",
              "      border-right-color: var(--fill-color);\n",
              "      border-top-color: var(--fill-color);\n",
              "    }\n",
              "    60% {\n",
              "      border-color: transparent;\n",
              "      border-right-color: var(--fill-color);\n",
              "    }\n",
              "    80% {\n",
              "      border-color: transparent;\n",
              "      border-right-color: var(--fill-color);\n",
              "      border-bottom-color: var(--fill-color);\n",
              "    }\n",
              "    90% {\n",
              "      border-color: transparent;\n",
              "      border-bottom-color: var(--fill-color);\n",
              "    }\n",
              "  }\n",
              "</style>\n",
              "\n",
              "  <script>\n",
              "    async function quickchart(key) {\n",
              "      const quickchartButtonEl =\n",
              "        document.querySelector('#' + key + ' button');\n",
              "      quickchartButtonEl.disabled = true;  // To prevent multiple clicks.\n",
              "      quickchartButtonEl.classList.add('colab-df-spinner');\n",
              "      try {\n",
              "        const charts = await google.colab.kernel.invokeFunction(\n",
              "            'suggestCharts', [key], {});\n",
              "      } catch (error) {\n",
              "        console.error('Error during call to suggestCharts:', error);\n",
              "      }\n",
              "      quickchartButtonEl.classList.remove('colab-df-spinner');\n",
              "      quickchartButtonEl.classList.add('colab-df-quickchart-complete');\n",
              "    }\n",
              "    (() => {\n",
              "      let quickchartButtonEl =\n",
              "        document.querySelector('#df-1946519d-89cc-495b-aff8-32b49bdfde5b button');\n",
              "      quickchartButtonEl.style.display =\n",
              "        google.colab.kernel.accessAllowed ? 'block' : 'none';\n",
              "    })();\n",
              "  </script>\n",
              "</div>\n",
              "\n",
              "  <div id=\"id_54311c99-9d19-4766-8f6d-4895bd6fde7f\">\n",
              "    <style>\n",
              "      .colab-df-generate {\n",
              "        background-color: #E8F0FE;\n",
              "        border: none;\n",
              "        border-radius: 50%;\n",
              "        cursor: pointer;\n",
              "        display: none;\n",
              "        fill: #1967D2;\n",
              "        height: 32px;\n",
              "        padding: 0 0 0 0;\n",
              "        width: 32px;\n",
              "      }\n",
              "\n",
              "      .colab-df-generate:hover {\n",
              "        background-color: #E2EBFA;\n",
              "        box-shadow: 0px 1px 2px rgba(60, 64, 67, 0.3), 0px 1px 3px 1px rgba(60, 64, 67, 0.15);\n",
              "        fill: #174EA6;\n",
              "      }\n",
              "\n",
              "      [theme=dark] .colab-df-generate {\n",
              "        background-color: #3B4455;\n",
              "        fill: #D2E3FC;\n",
              "      }\n",
              "\n",
              "      [theme=dark] .colab-df-generate:hover {\n",
              "        background-color: #434B5C;\n",
              "        box-shadow: 0px 1px 3px 1px rgba(0, 0, 0, 0.15);\n",
              "        filter: drop-shadow(0px 1px 2px rgba(0, 0, 0, 0.3));\n",
              "        fill: #FFFFFF;\n",
              "      }\n",
              "    </style>\n",
              "    <button class=\"colab-df-generate\" onclick=\"generateWithVariable('filtered_df')\"\n",
              "            title=\"Generate code using this dataframe.\"\n",
              "            style=\"display:none;\">\n",
              "\n",
              "  <svg xmlns=\"http://www.w3.org/2000/svg\" height=\"24px\"viewBox=\"0 0 24 24\"\n",
              "       width=\"24px\">\n",
              "    <path d=\"M7,19H8.4L18.45,9,17,7.55,7,17.6ZM5,21V16.75L18.45,3.32a2,2,0,0,1,2.83,0l1.4,1.43a1.91,1.91,0,0,1,.58,1.4,1.91,1.91,0,0,1-.58,1.4L9.25,21ZM18.45,9,17,7.55Zm-12,3A5.31,5.31,0,0,0,4.9,8.1,5.31,5.31,0,0,0,1,6.5,5.31,5.31,0,0,0,4.9,4.9,5.31,5.31,0,0,0,6.5,1,5.31,5.31,0,0,0,8.1,4.9,5.31,5.31,0,0,0,12,6.5,5.46,5.46,0,0,0,6.5,12Z\"/>\n",
              "  </svg>\n",
              "    </button>\n",
              "    <script>\n",
              "      (() => {\n",
              "      const buttonEl =\n",
              "        document.querySelector('#id_54311c99-9d19-4766-8f6d-4895bd6fde7f button.colab-df-generate');\n",
              "      buttonEl.style.display =\n",
              "        google.colab.kernel.accessAllowed ? 'block' : 'none';\n",
              "\n",
              "      buttonEl.onclick = () => {\n",
              "        google.colab.notebook.generateWithVariable('filtered_df');\n",
              "      }\n",
              "      })();\n",
              "    </script>\n",
              "  </div>\n",
              "\n",
              "    </div>\n",
              "  </div>\n"
            ]
          },
          "metadata": {},
          "execution_count": 47
        }
      ]
    },
    {
      "cell_type": "markdown",
      "metadata": {
        "id": "SUqJjgkPdn-3"
      },
      "source": [
        "4. We may want to eventually compute aggregate statistics, like `.mean()` on the `\" Value\"` column. But right now, the values in that column are strings. Convert the`\" Value\"` column to floats. If you'd like to, you can create a new column with float values.\n",
        "\n",
        "   Now that you can filter the dataset of question, use your new column that contains the float values of each question to find the \"difficulty\" of certain topics. For example, what is the average value of questions that contain the word `\"King\"`?\n",
        "   \n",
        "   Make sure to use the dataset that contains the float values as the dataset you use in your filtering function."
      ]
    },
    {
      "cell_type": "code",
      "execution_count": 49,
      "metadata": {
        "colab": {
          "base_uri": "https://localhost:8080/"
        },
        "id": "WjH9_f0sdn-4",
        "outputId": "1e92e9c9-5470-4576-d16f-63696d142d17"
      },
      "outputs": [
        {
          "output_type": "execute_result",
          "data": {
            "text/plain": [
              "$400       42244\n",
              "$800       31860\n",
              "$200       30455\n",
              "$600       20377\n",
              "$1000      19539\n",
              "           ...  \n",
              "$5,401         1\n",
              "$1,183         1\n",
              "$1,203         1\n",
              "$11,600        1\n",
              "$11,200        1\n",
              "Name:  Value, Length: 150, dtype: int64"
            ]
          },
          "metadata": {},
          "execution_count": 49
        }
      ],
      "source": [
        "df[\" Value\"].value_counts()"
      ]
    },
    {
      "cell_type": "code",
      "source": [
        "df[\" Value\"] = df[\" Value\"].apply(lambda x: float(x.replace(\"$\", \"\").replace(\",\", \"\")) if x != \"None\" else None)\n",
        "df[\" Value\"].value_counts()"
      ],
      "metadata": {
        "colab": {
          "base_uri": "https://localhost:8080/"
        },
        "id": "dA3PeMdsnI4X",
        "outputId": "80e3789e-3676-4ac8-d8ae-f62b530e2062"
      },
      "execution_count": 61,
      "outputs": [
        {
          "output_type": "execute_result",
          "data": {
            "text/plain": [
              "400.0      42244\n",
              "800.0      31860\n",
              "200.0      30455\n",
              "1000.0     21640\n",
              "600.0      20377\n",
              "           ...  \n",
              "5401.0         1\n",
              "1183.0         1\n",
              "1203.0         1\n",
              "11600.0        1\n",
              "11200.0        1\n",
              "Name:  Value, Length: 145, dtype: int64"
            ]
          },
          "metadata": {},
          "execution_count": 61
        }
      ]
    },
    {
      "cell_type": "markdown",
      "metadata": {
        "id": "CDcR-c0cdn-4"
      },
      "source": [
        "5. Write a function that returns the count of unique answers to all of the questions in a dataset. For example, after filtering the entire dataset to only questions containing the word `\"King\"`, we could then find all of the unique answers to those questions. The answer \"Henry VIII\" appeared 55 times and was the most common answer."
      ]
    },
    {
      "cell_type": "code",
      "execution_count": 65,
      "metadata": {
        "colab": {
          "base_uri": "https://localhost:8080/"
        },
        "id": "rSVmcZG7dn-4",
        "outputId": "a36ced80-dc9b-452a-dc80-bcf04666c222"
      },
      "outputs": [
        {
          "output_type": "execute_result",
          "data": {
            "text/plain": [
              "88268"
            ]
          },
          "metadata": {},
          "execution_count": 65
        }
      ],
      "source": [
        "list(df[\" Answer\"].unique())\n",
        "df[\" Answer\"].nunique()"
      ]
    },
    {
      "cell_type": "markdown",
      "metadata": {
        "id": "VvT-PSPxdn-4"
      },
      "source": [
        "6. Explore from here! This is an incredibly rich dataset, and there are so many interesting things to discover. There are a few columns that we haven't even started looking at yet. Here are some ideas on ways to continue working with this data:\n",
        "\n",
        " * Investigate the ways in which questions change over time by filtering by the date. How many questions from the 90s use the word `\"Computer\"` compared to questions from the 2000s?\n",
        " * Is there a connection between the round and the category? Are you more likely to find certain categories, like `\"Literature\"` in Single Jeopardy or Double Jeopardy?\n",
        " * Build a system to quiz yourself. Grab random questions, and use the <a href=\"https://docs.python.org/3/library/functions.html#input\">input</a> function to get a response from the user. Check to see if that response was right or wrong."
      ]
    },
    {
      "cell_type": "markdown",
      "source": [
        "###Computer in 90's and 00's\n"
      ],
      "metadata": {
        "id": "pajM224lznai"
      }
    },
    {
      "cell_type": "code",
      "execution_count": 90,
      "metadata": {
        "colab": {
          "base_uri": "https://localhost:8080/"
        },
        "id": "8VDjYRp6dn-4",
        "outputId": "61fbeba1-6799-4e57-ca9c-a535a296f1b5"
      },
      "outputs": [
        {
          "output_type": "execute_result",
          "data": {
            "text/plain": [
              "(98, 7)"
            ]
          },
          "metadata": {},
          "execution_count": 90
        }
      ],
      "source": [
        "from datetime import datetime\n",
        "\n",
        "word = \"Computer\"\n",
        "computer_df = df[df[ \" Question\"].apply(lambda x: word.lower() in x.lower())]\n",
        "\n",
        "upper_bound_90 = \"1999-12-31\"\n",
        "lower_bound_90 = \"1990-01-01\"\n",
        "\n",
        "upper_bound_00 = \"2009-12-31\"\n",
        "lower_bound_00 = \"2000-01-01\"\n",
        "\n",
        "computer_df_90 = computer_df[(computer_df[' Air Date'] >= lower_bound_90) & (computer_df[' Air Date'] <= upper_bound_90)]\n",
        "computer_df_90.shape"
      ]
    },
    {
      "cell_type": "code",
      "source": [
        "computer_df_00 = computer_df[(computer_df[' Air Date'] >= lower_bound_00) & (computer_df[' Air Date'] <= upper_bound_00)]\n",
        "computer_df_00.shape"
      ],
      "metadata": {
        "colab": {
          "base_uri": "https://localhost:8080/"
        },
        "id": "uB-gGE3sxHVX",
        "outputId": "cca516b8-52db-482c-8053-6aba5fcd3337"
      },
      "execution_count": 91,
      "outputs": [
        {
          "output_type": "execute_result",
          "data": {
            "text/plain": [
              "(268, 7)"
            ]
          },
          "metadata": {},
          "execution_count": 91
        }
      ]
    },
    {
      "cell_type": "markdown",
      "source": [
        "###Literature category in single or double jeaopardy"
      ],
      "metadata": {
        "id": "mTURz9NuzzPl"
      }
    },
    {
      "cell_type": "code",
      "source": [
        "literature_df = df[df[\" Category\"].apply(lambda x: \"Literature\".lower() in x.lower())]\n",
        "literature_df"
      ],
      "metadata": {
        "colab": {
          "base_uri": "https://localhost:8080/",
          "height": 615
        },
        "id": "bvj7psDSzkI0",
        "outputId": "fbde6cc9-1689-4b01-86ad-d8ac87fea6c0"
      },
      "execution_count": 92,
      "outputs": [
        {
          "output_type": "execute_result",
          "data": {
            "text/plain": [
              "        Show Number    Air Date             Round                Category  \\\n",
              "2060           1800  1992-05-29  Double Jeopardy!  CHILDREN'S  LITERATURE   \n",
              "2066           1800  1992-05-29  Double Jeopardy!  CHILDREN'S  LITERATURE   \n",
              "2072           1800  1992-05-29  Double Jeopardy!  CHILDREN'S  LITERATURE   \n",
              "2078           1800  1992-05-29  Double Jeopardy!  CHILDREN'S  LITERATURE   \n",
              "2084           1800  1992-05-29  Double Jeopardy!  CHILDREN'S  LITERATURE   \n",
              "...             ...         ...               ...                     ...   \n",
              "216183         1983  1993-03-31  Double Jeopardy!              LITERATURE   \n",
              "216189         1983  1993-03-31  Double Jeopardy!              LITERATURE   \n",
              "216195         1983  1993-03-31  Double Jeopardy!              LITERATURE   \n",
              "216201         1983  1993-03-31  Double Jeopardy!              LITERATURE   \n",
              "216207         1983  1993-03-31  Double Jeopardy!              LITERATURE   \n",
              "\n",
              "         Value  \\\n",
              "2060      $200   \n",
              "2066      $400   \n",
              "2072      $600   \n",
              "2078      $800   \n",
              "2084     $1000   \n",
              "...        ...   \n",
              "216183    $200   \n",
              "216189    $400   \n",
              "216195    $600   \n",
              "216201    $800   \n",
              "216207  $1,200   \n",
              "\n",
              "                                                                                                          Question  \\\n",
              "2060                               In one Grimm tale, 12 princesses dance these to pieces in an underground castle   \n",
              "2066                                  Anne Shirley leaves the orphanage to live on this \"colorful\" farm in Avonlea   \n",
              "2072                       \"The Comic Adventures of\" this elderly woman \"and her Dog\" were first published in 1805   \n",
              "2078                                 Dinarzade is the younger sister of this woman known for her nocturnal stories   \n",
              "2084               Madeline is one of \"twelve little girls in two straight lines\" who attend a school in this city   \n",
              "...                                                                                                            ...   \n",
              "216183              The book-of-the-month club calls this Dostoyevsky work \"the greatest crime novel ever written\"   \n",
              "216189                                       In an 1896 sequel, this Mark Twain title character turned \"Detective\"   \n",
              "216195        In 1846 these sisters published a collection of poems under the pen names Currer, Ellis & Acton Bell   \n",
              "216201  One of his last collections of tales, \"Uncle Remus and the Little Boy\", was published posthumously in 1910   \n",
              "216207                  This Hemingway novel about the \"Lost Generation\" is told from the viewpoint of Jake Barnes   \n",
              "\n",
              "                      Answer  \n",
              "2060             their shoes  \n",
              "2066            Green Gables  \n",
              "2072      Old Mother Hubbard  \n",
              "2078               Shahrazad  \n",
              "2084                   Paris  \n",
              "...                      ...  \n",
              "216183  Crime and Punishment  \n",
              "216189            Tom Sawyer  \n",
              "216195    the Brontë sisters  \n",
              "216201  Joel Chandler Harris  \n",
              "216207    The Sun Also Rises  \n",
              "\n",
              "[1559 rows x 7 columns]"
            ],
            "text/html": [
              "\n",
              "  <div id=\"df-ba7c356b-bf86-4b95-9f75-03872a6929d7\" class=\"colab-df-container\">\n",
              "    <div>\n",
              "<style scoped>\n",
              "    .dataframe tbody tr th:only-of-type {\n",
              "        vertical-align: middle;\n",
              "    }\n",
              "\n",
              "    .dataframe tbody tr th {\n",
              "        vertical-align: top;\n",
              "    }\n",
              "\n",
              "    .dataframe thead th {\n",
              "        text-align: right;\n",
              "    }\n",
              "</style>\n",
              "<table border=\"1\" class=\"dataframe\">\n",
              "  <thead>\n",
              "    <tr style=\"text-align: right;\">\n",
              "      <th></th>\n",
              "      <th>Show Number</th>\n",
              "      <th>Air Date</th>\n",
              "      <th>Round</th>\n",
              "      <th>Category</th>\n",
              "      <th>Value</th>\n",
              "      <th>Question</th>\n",
              "      <th>Answer</th>\n",
              "    </tr>\n",
              "  </thead>\n",
              "  <tbody>\n",
              "    <tr>\n",
              "      <th>2060</th>\n",
              "      <td>1800</td>\n",
              "      <td>1992-05-29</td>\n",
              "      <td>Double Jeopardy!</td>\n",
              "      <td>CHILDREN'S  LITERATURE</td>\n",
              "      <td>$200</td>\n",
              "      <td>In one Grimm tale, 12 princesses dance these to pieces in an underground castle</td>\n",
              "      <td>their shoes</td>\n",
              "    </tr>\n",
              "    <tr>\n",
              "      <th>2066</th>\n",
              "      <td>1800</td>\n",
              "      <td>1992-05-29</td>\n",
              "      <td>Double Jeopardy!</td>\n",
              "      <td>CHILDREN'S  LITERATURE</td>\n",
              "      <td>$400</td>\n",
              "      <td>Anne Shirley leaves the orphanage to live on this \"colorful\" farm in Avonlea</td>\n",
              "      <td>Green Gables</td>\n",
              "    </tr>\n",
              "    <tr>\n",
              "      <th>2072</th>\n",
              "      <td>1800</td>\n",
              "      <td>1992-05-29</td>\n",
              "      <td>Double Jeopardy!</td>\n",
              "      <td>CHILDREN'S  LITERATURE</td>\n",
              "      <td>$600</td>\n",
              "      <td>\"The Comic Adventures of\" this elderly woman \"and her Dog\" were first published in 1805</td>\n",
              "      <td>Old Mother Hubbard</td>\n",
              "    </tr>\n",
              "    <tr>\n",
              "      <th>2078</th>\n",
              "      <td>1800</td>\n",
              "      <td>1992-05-29</td>\n",
              "      <td>Double Jeopardy!</td>\n",
              "      <td>CHILDREN'S  LITERATURE</td>\n",
              "      <td>$800</td>\n",
              "      <td>Dinarzade is the younger sister of this woman known for her nocturnal stories</td>\n",
              "      <td>Shahrazad</td>\n",
              "    </tr>\n",
              "    <tr>\n",
              "      <th>2084</th>\n",
              "      <td>1800</td>\n",
              "      <td>1992-05-29</td>\n",
              "      <td>Double Jeopardy!</td>\n",
              "      <td>CHILDREN'S  LITERATURE</td>\n",
              "      <td>$1000</td>\n",
              "      <td>Madeline is one of \"twelve little girls in two straight lines\" who attend a school in this city</td>\n",
              "      <td>Paris</td>\n",
              "    </tr>\n",
              "    <tr>\n",
              "      <th>...</th>\n",
              "      <td>...</td>\n",
              "      <td>...</td>\n",
              "      <td>...</td>\n",
              "      <td>...</td>\n",
              "      <td>...</td>\n",
              "      <td>...</td>\n",
              "      <td>...</td>\n",
              "    </tr>\n",
              "    <tr>\n",
              "      <th>216183</th>\n",
              "      <td>1983</td>\n",
              "      <td>1993-03-31</td>\n",
              "      <td>Double Jeopardy!</td>\n",
              "      <td>LITERATURE</td>\n",
              "      <td>$200</td>\n",
              "      <td>The book-of-the-month club calls this Dostoyevsky work \"the greatest crime novel ever written\"</td>\n",
              "      <td>Crime and Punishment</td>\n",
              "    </tr>\n",
              "    <tr>\n",
              "      <th>216189</th>\n",
              "      <td>1983</td>\n",
              "      <td>1993-03-31</td>\n",
              "      <td>Double Jeopardy!</td>\n",
              "      <td>LITERATURE</td>\n",
              "      <td>$400</td>\n",
              "      <td>In an 1896 sequel, this Mark Twain title character turned \"Detective\"</td>\n",
              "      <td>Tom Sawyer</td>\n",
              "    </tr>\n",
              "    <tr>\n",
              "      <th>216195</th>\n",
              "      <td>1983</td>\n",
              "      <td>1993-03-31</td>\n",
              "      <td>Double Jeopardy!</td>\n",
              "      <td>LITERATURE</td>\n",
              "      <td>$600</td>\n",
              "      <td>In 1846 these sisters published a collection of poems under the pen names Currer, Ellis &amp; Acton Bell</td>\n",
              "      <td>the Brontë sisters</td>\n",
              "    </tr>\n",
              "    <tr>\n",
              "      <th>216201</th>\n",
              "      <td>1983</td>\n",
              "      <td>1993-03-31</td>\n",
              "      <td>Double Jeopardy!</td>\n",
              "      <td>LITERATURE</td>\n",
              "      <td>$800</td>\n",
              "      <td>One of his last collections of tales, \"Uncle Remus and the Little Boy\", was published posthumously in 1910</td>\n",
              "      <td>Joel Chandler Harris</td>\n",
              "    </tr>\n",
              "    <tr>\n",
              "      <th>216207</th>\n",
              "      <td>1983</td>\n",
              "      <td>1993-03-31</td>\n",
              "      <td>Double Jeopardy!</td>\n",
              "      <td>LITERATURE</td>\n",
              "      <td>$1,200</td>\n",
              "      <td>This Hemingway novel about the \"Lost Generation\" is told from the viewpoint of Jake Barnes</td>\n",
              "      <td>The Sun Also Rises</td>\n",
              "    </tr>\n",
              "  </tbody>\n",
              "</table>\n",
              "<p>1559 rows × 7 columns</p>\n",
              "</div>\n",
              "    <div class=\"colab-df-buttons\">\n",
              "\n",
              "  <div class=\"colab-df-container\">\n",
              "    <button class=\"colab-df-convert\" onclick=\"convertToInteractive('df-ba7c356b-bf86-4b95-9f75-03872a6929d7')\"\n",
              "            title=\"Convert this dataframe to an interactive table.\"\n",
              "            style=\"display:none;\">\n",
              "\n",
              "  <svg xmlns=\"http://www.w3.org/2000/svg\" height=\"24px\" viewBox=\"0 -960 960 960\">\n",
              "    <path d=\"M120-120v-720h720v720H120Zm60-500h600v-160H180v160Zm220 220h160v-160H400v160Zm0 220h160v-160H400v160ZM180-400h160v-160H180v160Zm440 0h160v-160H620v160ZM180-180h160v-160H180v160Zm440 0h160v-160H620v160Z\"/>\n",
              "  </svg>\n",
              "    </button>\n",
              "\n",
              "  <style>\n",
              "    .colab-df-container {\n",
              "      display:flex;\n",
              "      gap: 12px;\n",
              "    }\n",
              "\n",
              "    .colab-df-convert {\n",
              "      background-color: #E8F0FE;\n",
              "      border: none;\n",
              "      border-radius: 50%;\n",
              "      cursor: pointer;\n",
              "      display: none;\n",
              "      fill: #1967D2;\n",
              "      height: 32px;\n",
              "      padding: 0 0 0 0;\n",
              "      width: 32px;\n",
              "    }\n",
              "\n",
              "    .colab-df-convert:hover {\n",
              "      background-color: #E2EBFA;\n",
              "      box-shadow: 0px 1px 2px rgba(60, 64, 67, 0.3), 0px 1px 3px 1px rgba(60, 64, 67, 0.15);\n",
              "      fill: #174EA6;\n",
              "    }\n",
              "\n",
              "    .colab-df-buttons div {\n",
              "      margin-bottom: 4px;\n",
              "    }\n",
              "\n",
              "    [theme=dark] .colab-df-convert {\n",
              "      background-color: #3B4455;\n",
              "      fill: #D2E3FC;\n",
              "    }\n",
              "\n",
              "    [theme=dark] .colab-df-convert:hover {\n",
              "      background-color: #434B5C;\n",
              "      box-shadow: 0px 1px 3px 1px rgba(0, 0, 0, 0.15);\n",
              "      filter: drop-shadow(0px 1px 2px rgba(0, 0, 0, 0.3));\n",
              "      fill: #FFFFFF;\n",
              "    }\n",
              "  </style>\n",
              "\n",
              "    <script>\n",
              "      const buttonEl =\n",
              "        document.querySelector('#df-ba7c356b-bf86-4b95-9f75-03872a6929d7 button.colab-df-convert');\n",
              "      buttonEl.style.display =\n",
              "        google.colab.kernel.accessAllowed ? 'block' : 'none';\n",
              "\n",
              "      async function convertToInteractive(key) {\n",
              "        const element = document.querySelector('#df-ba7c356b-bf86-4b95-9f75-03872a6929d7');\n",
              "        const dataTable =\n",
              "          await google.colab.kernel.invokeFunction('convertToInteractive',\n",
              "                                                    [key], {});\n",
              "        if (!dataTable) return;\n",
              "\n",
              "        const docLinkHtml = 'Like what you see? Visit the ' +\n",
              "          '<a target=\"_blank\" href=https://colab.research.google.com/notebooks/data_table.ipynb>data table notebook</a>'\n",
              "          + ' to learn more about interactive tables.';\n",
              "        element.innerHTML = '';\n",
              "        dataTable['output_type'] = 'display_data';\n",
              "        await google.colab.output.renderOutput(dataTable, element);\n",
              "        const docLink = document.createElement('div');\n",
              "        docLink.innerHTML = docLinkHtml;\n",
              "        element.appendChild(docLink);\n",
              "      }\n",
              "    </script>\n",
              "  </div>\n",
              "\n",
              "\n",
              "<div id=\"df-d93f636e-6e37-4ad8-aeb5-b68bea0d32e4\">\n",
              "  <button class=\"colab-df-quickchart\" onclick=\"quickchart('df-d93f636e-6e37-4ad8-aeb5-b68bea0d32e4')\"\n",
              "            title=\"Suggest charts\"\n",
              "            style=\"display:none;\">\n",
              "\n",
              "<svg xmlns=\"http://www.w3.org/2000/svg\" height=\"24px\"viewBox=\"0 0 24 24\"\n",
              "     width=\"24px\">\n",
              "    <g>\n",
              "        <path d=\"M19 3H5c-1.1 0-2 .9-2 2v14c0 1.1.9 2 2 2h14c1.1 0 2-.9 2-2V5c0-1.1-.9-2-2-2zM9 17H7v-7h2v7zm4 0h-2V7h2v10zm4 0h-2v-4h2v4z\"/>\n",
              "    </g>\n",
              "</svg>\n",
              "  </button>\n",
              "\n",
              "<style>\n",
              "  .colab-df-quickchart {\n",
              "      --bg-color: #E8F0FE;\n",
              "      --fill-color: #1967D2;\n",
              "      --hover-bg-color: #E2EBFA;\n",
              "      --hover-fill-color: #174EA6;\n",
              "      --disabled-fill-color: #AAA;\n",
              "      --disabled-bg-color: #DDD;\n",
              "  }\n",
              "\n",
              "  [theme=dark] .colab-df-quickchart {\n",
              "      --bg-color: #3B4455;\n",
              "      --fill-color: #D2E3FC;\n",
              "      --hover-bg-color: #434B5C;\n",
              "      --hover-fill-color: #FFFFFF;\n",
              "      --disabled-bg-color: #3B4455;\n",
              "      --disabled-fill-color: #666;\n",
              "  }\n",
              "\n",
              "  .colab-df-quickchart {\n",
              "    background-color: var(--bg-color);\n",
              "    border: none;\n",
              "    border-radius: 50%;\n",
              "    cursor: pointer;\n",
              "    display: none;\n",
              "    fill: var(--fill-color);\n",
              "    height: 32px;\n",
              "    padding: 0;\n",
              "    width: 32px;\n",
              "  }\n",
              "\n",
              "  .colab-df-quickchart:hover {\n",
              "    background-color: var(--hover-bg-color);\n",
              "    box-shadow: 0 1px 2px rgba(60, 64, 67, 0.3), 0 1px 3px 1px rgba(60, 64, 67, 0.15);\n",
              "    fill: var(--button-hover-fill-color);\n",
              "  }\n",
              "\n",
              "  .colab-df-quickchart-complete:disabled,\n",
              "  .colab-df-quickchart-complete:disabled:hover {\n",
              "    background-color: var(--disabled-bg-color);\n",
              "    fill: var(--disabled-fill-color);\n",
              "    box-shadow: none;\n",
              "  }\n",
              "\n",
              "  .colab-df-spinner {\n",
              "    border: 2px solid var(--fill-color);\n",
              "    border-color: transparent;\n",
              "    border-bottom-color: var(--fill-color);\n",
              "    animation:\n",
              "      spin 1s steps(1) infinite;\n",
              "  }\n",
              "\n",
              "  @keyframes spin {\n",
              "    0% {\n",
              "      border-color: transparent;\n",
              "      border-bottom-color: var(--fill-color);\n",
              "      border-left-color: var(--fill-color);\n",
              "    }\n",
              "    20% {\n",
              "      border-color: transparent;\n",
              "      border-left-color: var(--fill-color);\n",
              "      border-top-color: var(--fill-color);\n",
              "    }\n",
              "    30% {\n",
              "      border-color: transparent;\n",
              "      border-left-color: var(--fill-color);\n",
              "      border-top-color: var(--fill-color);\n",
              "      border-right-color: var(--fill-color);\n",
              "    }\n",
              "    40% {\n",
              "      border-color: transparent;\n",
              "      border-right-color: var(--fill-color);\n",
              "      border-top-color: var(--fill-color);\n",
              "    }\n",
              "    60% {\n",
              "      border-color: transparent;\n",
              "      border-right-color: var(--fill-color);\n",
              "    }\n",
              "    80% {\n",
              "      border-color: transparent;\n",
              "      border-right-color: var(--fill-color);\n",
              "      border-bottom-color: var(--fill-color);\n",
              "    }\n",
              "    90% {\n",
              "      border-color: transparent;\n",
              "      border-bottom-color: var(--fill-color);\n",
              "    }\n",
              "  }\n",
              "</style>\n",
              "\n",
              "  <script>\n",
              "    async function quickchart(key) {\n",
              "      const quickchartButtonEl =\n",
              "        document.querySelector('#' + key + ' button');\n",
              "      quickchartButtonEl.disabled = true;  // To prevent multiple clicks.\n",
              "      quickchartButtonEl.classList.add('colab-df-spinner');\n",
              "      try {\n",
              "        const charts = await google.colab.kernel.invokeFunction(\n",
              "            'suggestCharts', [key], {});\n",
              "      } catch (error) {\n",
              "        console.error('Error during call to suggestCharts:', error);\n",
              "      }\n",
              "      quickchartButtonEl.classList.remove('colab-df-spinner');\n",
              "      quickchartButtonEl.classList.add('colab-df-quickchart-complete');\n",
              "    }\n",
              "    (() => {\n",
              "      let quickchartButtonEl =\n",
              "        document.querySelector('#df-d93f636e-6e37-4ad8-aeb5-b68bea0d32e4 button');\n",
              "      quickchartButtonEl.style.display =\n",
              "        google.colab.kernel.accessAllowed ? 'block' : 'none';\n",
              "    })();\n",
              "  </script>\n",
              "</div>\n",
              "\n",
              "  <div id=\"id_d716de48-ea66-45f0-8935-b380481a41b4\">\n",
              "    <style>\n",
              "      .colab-df-generate {\n",
              "        background-color: #E8F0FE;\n",
              "        border: none;\n",
              "        border-radius: 50%;\n",
              "        cursor: pointer;\n",
              "        display: none;\n",
              "        fill: #1967D2;\n",
              "        height: 32px;\n",
              "        padding: 0 0 0 0;\n",
              "        width: 32px;\n",
              "      }\n",
              "\n",
              "      .colab-df-generate:hover {\n",
              "        background-color: #E2EBFA;\n",
              "        box-shadow: 0px 1px 2px rgba(60, 64, 67, 0.3), 0px 1px 3px 1px rgba(60, 64, 67, 0.15);\n",
              "        fill: #174EA6;\n",
              "      }\n",
              "\n",
              "      [theme=dark] .colab-df-generate {\n",
              "        background-color: #3B4455;\n",
              "        fill: #D2E3FC;\n",
              "      }\n",
              "\n",
              "      [theme=dark] .colab-df-generate:hover {\n",
              "        background-color: #434B5C;\n",
              "        box-shadow: 0px 1px 3px 1px rgba(0, 0, 0, 0.15);\n",
              "        filter: drop-shadow(0px 1px 2px rgba(0, 0, 0, 0.3));\n",
              "        fill: #FFFFFF;\n",
              "      }\n",
              "    </style>\n",
              "    <button class=\"colab-df-generate\" onclick=\"generateWithVariable('literature_df')\"\n",
              "            title=\"Generate code using this dataframe.\"\n",
              "            style=\"display:none;\">\n",
              "\n",
              "  <svg xmlns=\"http://www.w3.org/2000/svg\" height=\"24px\"viewBox=\"0 0 24 24\"\n",
              "       width=\"24px\">\n",
              "    <path d=\"M7,19H8.4L18.45,9,17,7.55,7,17.6ZM5,21V16.75L18.45,3.32a2,2,0,0,1,2.83,0l1.4,1.43a1.91,1.91,0,0,1,.58,1.4,1.91,1.91,0,0,1-.58,1.4L9.25,21ZM18.45,9,17,7.55Zm-12,3A5.31,5.31,0,0,0,4.9,8.1,5.31,5.31,0,0,0,1,6.5,5.31,5.31,0,0,0,4.9,4.9,5.31,5.31,0,0,0,6.5,1,5.31,5.31,0,0,0,8.1,4.9,5.31,5.31,0,0,0,12,6.5,5.46,5.46,0,0,0,6.5,12Z\"/>\n",
              "  </svg>\n",
              "    </button>\n",
              "    <script>\n",
              "      (() => {\n",
              "      const buttonEl =\n",
              "        document.querySelector('#id_d716de48-ea66-45f0-8935-b380481a41b4 button.colab-df-generate');\n",
              "      buttonEl.style.display =\n",
              "        google.colab.kernel.accessAllowed ? 'block' : 'none';\n",
              "\n",
              "      buttonEl.onclick = () => {\n",
              "        google.colab.notebook.generateWithVariable('literature_df');\n",
              "      }\n",
              "      })();\n",
              "    </script>\n",
              "  </div>\n",
              "\n",
              "    </div>\n",
              "  </div>\n"
            ]
          },
          "metadata": {},
          "execution_count": 92
        }
      ]
    },
    {
      "cell_type": "code",
      "source": [
        "literature_df[\" Round\"].value_counts()"
      ],
      "metadata": {
        "colab": {
          "base_uri": "https://localhost:8080/"
        },
        "id": "q6R0JO_l0dst",
        "outputId": "8dcb1902-9dbb-49f4-bbc6-53c8081a726c"
      },
      "execution_count": 93,
      "outputs": [
        {
          "output_type": "execute_result",
          "data": {
            "text/plain": [
              "Double Jeopardy!    1054\n",
              "Jeopardy!            423\n",
              "Final Jeopardy!       82\n",
              "Name:  Round, dtype: int64"
            ]
          },
          "metadata": {},
          "execution_count": 93
        }
      ]
    },
    {
      "cell_type": "markdown",
      "source": [
        "###Quiz\n"
      ],
      "metadata": {
        "id": "_lD1i7E30ocU"
      }
    },
    {
      "cell_type": "code",
      "source": [
        "import random\n",
        "\n",
        "question_number = random.randint(0, df.shape[0])\n",
        "\n",
        "print(df[\" Question\"].iloc[question_number])\n",
        "\n",
        "correct_answer = df[\" Answer\"].iloc[question_number].lower()\n",
        "\n",
        "answer = input(\"Enter your answer: \")\n",
        "\n",
        "if answer.lower() == correct_answer:\n",
        "  print(\"Your answer is correct\")\n",
        "else:\n",
        "  print(f\"Correct answer is {correct_answer}\")\n",
        ""
      ],
      "metadata": {
        "colab": {
          "base_uri": "https://localhost:8080/"
        },
        "id": "1iqa4Zet0wX0",
        "outputId": "9dceb965-6f9c-4a65-ecc4-be5b9100e023"
      },
      "execution_count": 94,
      "outputs": [
        {
          "output_type": "stream",
          "name": "stdout",
          "text": [
            "Westminster Abbey, Nov. 20, 1947\n",
            "Enter your answer: /\n",
            "Correct answer is the wedding of elizabeth ii & prince philip\n"
          ]
        }
      ]
    },
    {
      "cell_type": "markdown",
      "metadata": {
        "id": "CAKuO4tmdn-4"
      },
      "source": [
        "## Solution"
      ]
    },
    {
      "cell_type": "markdown",
      "metadata": {
        "id": "uCFKoLCldn-4"
      },
      "source": [
        "7. Compare your program to our <a href=\"https://content.codecademy.com/PRO/independent-practice-projects/jeopardy/jeopardy_solution.zip\">sample solution code</a> - remember, that your program might look different from ours (and probably will) and that's okay!"
      ]
    },
    {
      "cell_type": "markdown",
      "metadata": {
        "id": "_GhtgLMCdn-4"
      },
      "source": [
        "8. Great work! Visit <a href=\"https://discuss.codecademy.com/t/this-is-jeopardy-challenge-project-python-pandas/462365\">our forums</a> to compare your project to our sample solution code. You can also learn how to host your own solution on GitHub so you can share it with other learners! Your solution might look different from ours, and that's okay! There are multiple ways to solve these projects, and you'll learn more by seeing others' code."
      ]
    },
    {
      "cell_type": "code",
      "execution_count": null,
      "metadata": {
        "id": "6w0dPCzDdn-4"
      },
      "outputs": [],
      "source": []
    }
  ],
  "metadata": {
    "kernelspec": {
      "display_name": "Python 3 (ipykernel)",
      "language": "python",
      "name": "python3"
    },
    "language_info": {
      "codemirror_mode": {
        "name": "ipython",
        "version": 3
      },
      "file_extension": ".py",
      "mimetype": "text/x-python",
      "name": "python",
      "nbconvert_exporter": "python",
      "pygments_lexer": "ipython3",
      "version": "3.7.11"
    },
    "colab": {
      "provenance": []
    }
  },
  "nbformat": 4,
  "nbformat_minor": 0
}